{
  "nbformat": 4,
  "nbformat_minor": 0,
  "metadata": {
    "colab": {
      "provenance": []
    },
    "kernelspec": {
      "name": "python3",
      "display_name": "Python 3"
    },
    "language_info": {
      "name": "python"
    }
  },
  "cells": [
    {
      "cell_type": "code",
      "execution_count": null,
      "metadata": {
        "id": "Xm5kw5MWh9mQ"
      },
      "outputs": [],
      "source": [
        "import re\n",
        "\n",
        "pattern = re.compile(r'#([0-9a-fA-F]{1,2}){3}')\n",
        "\n",
        "res = []\n",
        "for _ in range(int(input())):\n",
        "    s = input()\n",
        "    if s.endswith(';'):\n",
        "        res += [m.group(0) for m in re.finditer(pattern, s)]\n",
        "print(*res, sep='\\n')"
      ]
    }
  ]
}