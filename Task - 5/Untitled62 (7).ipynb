{
  "nbformat": 4,
  "nbformat_minor": 0,
  "metadata": {
    "colab": {
      "provenance": []
    },
    "kernelspec": {
      "name": "python3",
      "display_name": "Python 3"
    },
    "language_info": {
      "name": "python"
    }
  },
  "cells": [
    {
      "cell_type": "code",
      "execution_count": null,
      "metadata": {
        "id": "JNoOng3_h7cO"
      },
      "outputs": [],
      "source": [
        "import re\n",
        "\n",
        "for _ in range(int(input())):\n",
        "    print('YES' if re.match(r'^[7-9]\\d{9}$', input()) else 'NO')"
      ]
    }
  ]
}