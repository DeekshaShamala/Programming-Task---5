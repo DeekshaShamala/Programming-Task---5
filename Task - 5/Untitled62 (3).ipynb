{
  "nbformat": 4,
  "nbformat_minor": 0,
  "metadata": {
    "colab": {
      "provenance": []
    },
    "kernelspec": {
      "name": "python3",
      "display_name": "Python 3"
    },
    "language_info": {
      "name": "python"
    }
  },
  "cells": [
    {
      "cell_type": "code",
      "execution_count": null,
      "metadata": {
        "id": "torGTJDgiAhp"
      },
      "outputs": [],
      "source": [
        "import re\n",
        "\n",
        "s = input()\n",
        "\n",
        "vowels = '[AEIOUaeiou]{2,}'\n",
        "consonant = '[QWRTYPSDFGHJKLZXCVBNMqwrtypsdfghjklzxcvbnm]'\n",
        "testpattern=re.compile(rf'(?<={consonant}){vowels}(?={consonant})')\n",
        "\n",
        "result = testpattern.findall(s)\n",
        "\n",
        "print(*result if len(result) > 0 else [-1], sep='\\n')"
      ]
    }
  ]
}