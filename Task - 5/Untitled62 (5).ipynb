{
  "nbformat": 4,
  "nbformat_minor": 0,
  "metadata": {
    "colab": {
      "provenance": []
    },
    "kernelspec": {
      "name": "python3",
      "display_name": "Python 3"
    },
    "language_info": {
      "name": "python"
    }
  },
  "cells": [
    {
      "cell_type": "code",
      "execution_count": null,
      "metadata": {
        "id": "j4Wrs8plh_Fq"
      },
      "outputs": [],
      "source": [
        "import re\n",
        "\n",
        "repl = lambda x: x.group().replace('&&', 'and').replace('||', 'or')\n",
        "for _ in range(int(input())):\n",
        "    print(re.sub(r'(?<= )\\&\\& |(?<= )\\|\\| ', repl, input()))"
      ]
    }
  ]
}