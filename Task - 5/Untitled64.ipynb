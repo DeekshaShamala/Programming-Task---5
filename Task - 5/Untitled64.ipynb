{
  "nbformat": 4,
  "nbformat_minor": 0,
  "metadata": {
    "colab": {
      "provenance": []
    },
    "kernelspec": {
      "name": "python3",
      "display_name": "Python 3"
    },
    "language_info": {
      "name": "python"
    }
  },
  "cells": [
    {
      "cell_type": "code",
      "execution_count": null,
      "metadata": {
        "id": "CMTemvz6K-ux"
      },
      "outputs": [],
      "source": [
        "import re\n",
        "\n",
        "for i in range(int(input())):\n",
        "    \n",
        "    text = input()\n",
        "    pattern = re.compile(r\"^([456][\\d+]{3})-([\\d+]{4})-([\\d+]{4})-([\\d+]{4})$|^([456][\\d+]{15})$\")\n",
        "\n",
        "    if pattern.match(text):\n",
        "        text = ''.join([i for i in text if i != '-'])\n",
        "        if all([False if i*4 in text  else True for i in set(text)]):\n",
        "            print(\"Valid\")\n",
        "        else:\n",
        "            print(\"Invalid\")\n",
        "    else:\n",
        "        print(\"Invalid\")    \n",
        "    "
      ]
    }
  ]
}