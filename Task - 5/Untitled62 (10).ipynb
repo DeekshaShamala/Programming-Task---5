{
  "nbformat": 4,
  "nbformat_minor": 0,
  "metadata": {
    "colab": {
      "provenance": []
    },
    "kernelspec": {
      "name": "python3",
      "display_name": "Python 3"
    },
    "language_info": {
      "name": "python"
    }
  },
  "cells": [
    {
      "cell_type": "code",
      "execution_count": null,
      "metadata": {
        "id": "vqhGM-rgh6iJ"
      },
      "outputs": [],
      "source": [
        "from html.parser import HTMLParser\n",
        "\n",
        "class MyParser(HTMLParser):\n",
        "    def print(self, action, tag, attrs=()):\n",
        "        print(f\"{action:5} : {tag}\")\n",
        "        for name, value in attrs:\n",
        "            print(f\"-> {name} > {value}\")\n",
        "        \n",
        "    def handle_starttag(self, tag, attrs):\n",
        "        self.print(\"Start\", tag, attrs)\n",
        "\n",
        "    def handle_endtag(self, tag):\n",
        "        self.print(\"End\", tag)\n",
        "\n",
        "    def handle_startendtag(self, tag, attrs):\n",
        "        self.print(\"Empty\", tag, attrs)\n",
        "\n",
        "parser = MyParser()\n",
        "for _ in range(int(input())):\n",
        "    parser.feed(input())"
      ]
    }
  ]
}