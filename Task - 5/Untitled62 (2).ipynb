{
  "nbformat": 4,
  "nbformat_minor": 0,
  "metadata": {
    "colab": {
      "provenance": []
    },
    "kernelspec": {
      "name": "python3",
      "display_name": "Python 3"
    },
    "language_info": {
      "name": "python"
    }
  },
  "cells": [
    {
      "cell_type": "code",
      "execution_count": null,
      "metadata": {
        "id": "PIB9TFHBiBba"
      },
      "outputs": [],
      "source": [
        "import re\n",
        "char = input()\n",
        "pattern = r\"([a-zA-Z0-9])\\1+\"\n",
        "match = re.search(pattern,char)\n",
        "if match:\n",
        "    print(match.group(1))\n",
        "else:\n",
        "    print(-1)"
      ]
    }
  ]
}