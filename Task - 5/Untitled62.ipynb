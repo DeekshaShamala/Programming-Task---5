{
  "nbformat": 4,
  "nbformat_minor": 0,
  "metadata": {
    "colab": {
      "provenance": []
    },
    "kernelspec": {
      "name": "python3",
      "display_name": "Python 3"
    },
    "language_info": {
      "name": "python"
    }
  },
  "cells": [
    {
      "cell_type": "code",
      "execution_count": null,
      "metadata": {
        "id": "pOPlJUpkiCoE"
      },
      "outputs": [],
      "source": [
        "def main():\n",
        "    l = []\n",
        "    integer = int(input())\n",
        "    for i in range(integer):\n",
        "        n = input()\n",
        "        if n == 0:\n",
        "            l.append('False')\n",
        "        else:\n",
        "            try:\n",
        "                if float(n) and n != 0:\n",
        "                    l.append('True')\n",
        "                else:\n",
        "                    l.append('False')\n",
        "            except:\n",
        "                l.append('False')\n",
        "    print('\\n'.join(l))\n",
        "\n",
        "\n",
        "if __name__ == '__main__':\n",
        "    main()"
      ]
    }
  ]
}