{
  "nbformat": 4,
  "nbformat_minor": 0,
  "metadata": {
    "colab": {
      "provenance": []
    },
    "kernelspec": {
      "name": "python3",
      "display_name": "Python 3"
    },
    "language_info": {
      "name": "python"
    }
  },
  "cells": [
    {
      "cell_type": "code",
      "execution_count": null,
      "metadata": {
        "id": "kzSpNucUKZjW"
      },
      "outputs": [],
      "source": [
        "from html.parser import HTMLParser\n",
        "\n",
        "class MyHTMLParser(HTMLParser):\n",
        "    def handle_starttag(self, tag, attrs):\n",
        "        print(tag, *('-> {0} > {1}'.format(*attr) for attr in attrs), sep='\\n')\n",
        "\n",
        "MyHTMLParser().feed(''.join([input() for _ in range(int(input()))]))"
      ]
    }
  ]
}