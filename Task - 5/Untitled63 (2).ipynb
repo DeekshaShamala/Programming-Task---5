{
  "nbformat": 4,
  "nbformat_minor": 0,
  "metadata": {
    "colab": {
      "provenance": []
    },
    "kernelspec": {
      "name": "python3",
      "display_name": "Python 3"
    },
    "language_info": {
      "name": "python"
    }
  },
  "cells": [
    {
      "cell_type": "code",
      "execution_count": null,
      "metadata": {
        "id": "RZhissgrKY2F"
      },
      "outputs": [],
      "source": [
        "import re\n",
        "\n",
        "def is_valid_uid(uid):\n",
        "    return all([\n",
        "        re.search(r'[A-Z].*[A-Z]', uid),\n",
        "        re.search(r'\\d.*\\d.*\\d', uid),\n",
        "        not re.search(r'\\W', uid),\n",
        "        len(set(uid)) == 10,\n",
        "        len(uid) == 10\n",
        "    ])\n",
        "\n",
        "t = int(input().strip())\n",
        "\n",
        "for i in range(t):\n",
        "    uid = input().strip()\n",
        "    if is_valid_uid(uid):\n",
        "        print(\"Valid\")\n",
        "    else:\n",
        "        print(\"Invalid\")"
      ]
    }
  ]
}