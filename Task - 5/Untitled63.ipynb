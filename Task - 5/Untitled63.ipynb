{
  "nbformat": 4,
  "nbformat_minor": 0,
  "metadata": {
    "colab": {
      "provenance": []
    },
    "kernelspec": {
      "name": "python3",
      "display_name": "Python 3"
    },
    "language_info": {
      "name": "python"
    }
  },
  "cells": [
    {
      "cell_type": "code",
      "execution_count": null,
      "metadata": {
        "id": "DNvJZPRkKamT"
      },
      "outputs": [],
      "source": [
        "from html.parser import HTMLParser\n",
        "\n",
        "class MyHTMLParser(HTMLParser):\n",
        "    def handle_comment(self, data):\n",
        "        data = str(data).split('\\n')\n",
        "        if len(data)>1:\n",
        "            print('>>> Multi-line Comment', *data, sep='\\n')\n",
        "        else:\n",
        "            print('>>> Single-line Comment', data[0], sep='\\n')            \n",
        "    def handle_data(self, data):\n",
        "        data = str(data).replace('\\n', '')\n",
        "        if len(data)>0:\n",
        "            print('>>> Data', data, sep='\\n')\n",
        "\n",
        "html = \"\"       \n",
        "for _ in range(int(input())):\n",
        "    html += input().rstrip()\n",
        "    html += '\\n'\n",
        "    \n",
        "parser = MyHTMLParser()\n",
        "parser.feed(html)\n",
        "parser.close()"
      ]
    }
  ]
}