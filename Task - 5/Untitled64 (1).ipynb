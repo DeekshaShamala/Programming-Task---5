{
  "nbformat": 4,
  "nbformat_minor": 0,
  "metadata": {
    "colab": {
      "provenance": []
    },
    "kernelspec": {
      "name": "python3",
      "display_name": "Python 3"
    },
    "language_info": {
      "name": "python"
    }
  },
  "cells": [
    {
      "cell_type": "code",
      "execution_count": null,
      "metadata": {
        "id": "nT_3RmXmK-Gt"
      },
      "outputs": [],
      "source": [
        "regex_integer_in_range = r\"^[1-9]\\d{5}$\"\t# Do not delete 'r'.\n",
        "regex_alternating_repetitive_digit_pair = r\"(\\d)(?=\\d\\1)\"\t# Do not delete 'r'.\n",
        "\n",
        "\n",
        "import re\n",
        "P = input()\n",
        "\n",
        "print (bool(re.match(regex_integer_in_range, P)) \n",
        "and len(re.findall(regex_alternating_repetitive_digit_pair, P)) < 2)"
      ]
    }
  ]
}