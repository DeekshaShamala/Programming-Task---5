{
  "nbformat": 4,
  "nbformat_minor": 0,
  "metadata": {
    "colab": {
      "provenance": []
    },
    "kernelspec": {
      "name": "python3",
      "display_name": "Python 3"
    },
    "language_info": {
      "name": "python"
    }
  },
  "cells": [
    {
      "cell_type": "code",
      "execution_count": null,
      "metadata": {
        "id": "Iycp6tYlK9Og"
      },
      "outputs": [],
      "source": [
        "#!/bin/python3\n",
        "\n",
        "import re\n",
        "\n",
        "first_multiple_input = input().rstrip().split()\n",
        "\n",
        "n = int(first_multiple_input[0])\n",
        "\n",
        "m = int(first_multiple_input[1])\n",
        "\n",
        "matrix = []\n",
        "\n",
        "for _ in range(n):\n",
        "    matrix_item = input()\n",
        "    matrix.append(matrix_item)\n",
        "\n",
        "transponded = \"\".join([matrix[j][i] for i in range(m) for j in range(n)])\n",
        "\n",
        "ending = re.search(\"[^a-zA-Z0-9]*$\", transponded).group()[1:]\n",
        "middle = re.sub(\"[^a-zA-Z0-9]+\", \" \", transponded).strip()\n",
        "begining = re.search(\"^[^a-zA-Z0-9]*\", transponded).group()[:-1]\n",
        "\n",
        "result = \"\"\n",
        "result += begining\n",
        "result += middle\n",
        "result += ending\n",
        "\n",
        "print(result)"
      ]
    }
  ]
}