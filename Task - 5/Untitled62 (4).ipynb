{
  "nbformat": 4,
  "nbformat_minor": 0,
  "metadata": {
    "colab": {
      "provenance": []
    },
    "kernelspec": {
      "name": "python3",
      "display_name": "Python 3"
    },
    "language_info": {
      "name": "python"
    }
  },
  "cells": [
    {
      "cell_type": "code",
      "execution_count": null,
      "metadata": {
        "id": "Pystjs0sh_3s"
      },
      "outputs": [],
      "source": [
        "import re\n",
        "s,k = input(),input()\n",
        "patter = re.compile(k)\n",
        "m=patter.search(s)\n",
        "\n",
        "if not m:\n",
        "        print((-1,-1))  \n",
        "while m:\n",
        "    print((m.start(),m.end()-1))\n",
        "    m=patter.search(s,m.start()+1)"
      ]
    }
  ]
}